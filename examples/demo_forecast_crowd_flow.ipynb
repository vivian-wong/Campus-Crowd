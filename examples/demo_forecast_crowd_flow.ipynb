{
 "cells": [
  {
   "cell_type": "markdown",
   "metadata": {},
   "source": [
    "# STEN Forecasting demo\n",
    "\n",
    "In this notebook, we will:\n",
    "1. **Load data**: Load pytorch geometric temporal data and split into torch train test val dataloaders.\n",
    "2. **Model Building**: We will build and train a STEN model - the DenseGCNGRU model using the processed data.\n",
    "3. **Model Evaluation**: We will print and plot model outputs to look at its performance. "
   ]
  },
  {
   "cell_type": "code",
   "execution_count": 2,
   "metadata": {},
   "outputs": [
    {
     "name": "stdout",
     "output_type": "stream",
     "text": [
      "/Users/vivianwong/Documents/Research Codes/Campus-Crowd\n",
      "cpu\n"
     ]
    }
   ],
   "source": [
    "# import all the necessary libraries\n",
    "import os\n",
    "import torch\n",
    "\n",
    "# for relative imports\n",
    "os.chdir('..') \n",
    "print(os.getcwd()) # should print /your_local_dir/Campus-Crowd\n",
    "\n",
    "# cuda or cpu\n",
    "device = torch.device('cuda' if torch.cuda.is_available() else 'cpu')\n",
    "print(device)"
   ]
  },
  {
   "cell_type": "code",
   "execution_count": 3,
   "metadata": {},
   "outputs": [],
   "source": [
    "class Args:\n",
    "    def __init__(self):\n",
    "        self.DATASET = 'Stadium'\n",
    "        self.forecasting_horizon = 20\n",
    "        self.train_ratio = 0.7\n",
    "        self.test_ratio = 0.3\n",
    "        self.val_ratio = 0.0\n",
    "        self.batch_size = 32\n",
    "        self.lr = 0.001\n",
    "        self.epochs = 40\n",
    "        self.save_model = False\n",
    "        self.save_dir = './checkpoints'\n",
    "args = Args()"
   ]
  },
  {
   "cell_type": "markdown",
   "metadata": {},
   "source": [
    "## 1. Load data. this step is the same as one shown in demo_dataset.ipynb. "
   ]
  },
  {
   "cell_type": "code",
   "execution_count": 4,
   "metadata": {},
   "outputs": [
    {
     "name": "stdout",
     "output_type": "stream",
     "text": [
      "Dataset type:   <torch_geometric_temporal.signal.static_graph_temporal_signal.StaticGraphTemporalSignal object at 0x107843eb0>\n",
      "Number of samples / sequences:  2356\n",
      "Data(x=[6, 2, 20], edge_index=[2, 10], edge_attr=[10], y=[6, 20])\n",
      "Number of train buckets:  1649\n",
      "Number of val buckets:  0\n",
      "Number of test buckets:  707\n"
     ]
    }
   ],
   "source": [
    "from campuscrowd.data_utils import get_pyg_temporal_dataset, get_loaders\n",
    "# get pytorch dataloaders\n",
    "dataset, _ = get_pyg_temporal_dataset(args.DATASET, args.forecasting_horizon)\n",
    "train_loader, val_loader, test_loader = get_loaders(dataset, \n",
    "                                                    args.batch_size, \n",
    "                                                    args.train_ratio, \n",
    "                                                    args.val_ratio, \n",
    "                                                    args.test_ratio, \n",
    "                                                    device)\n",
    "\n"
   ]
  },
  {
   "cell_type": "markdown",
   "metadata": {},
   "source": [
    "In order to run a graph neural network, the inputs are $A$, the adjacency matrix, and $X$, the node feature matrix. Since our $A$ is defined by inter-PAR connections and is assumed to never change, we can reduce computational time by only loading $A$ once. In PyTorch Geometric, $A$ is represented as the edge_index object."
   ]
  },
  {
   "cell_type": "code",
   "execution_count": 5,
   "metadata": {},
   "outputs": [
    {
     "name": "stdout",
     "output_type": "stream",
     "text": [
      "tensor([[0, 1, 1, 2, 2, 3, 3, 4, 4, 5],\n",
      "        [1, 0, 2, 1, 3, 2, 4, 3, 5, 4]])\n"
     ]
    }
   ],
   "source": [
    "# get static edge index (i.e. adjacency matrix). Only need to do this one since edge index doesn't change for each CMGraph. \n",
    "for snapshot in dataset:\n",
    "    static_edge_index = snapshot.edge_index.to(device)\n",
    "    break;\n",
    "# Edge indices (represents adjacency matrix/PAR connections) of the CMGraphs. \n",
    "print(static_edge_index)"
   ]
  },
  {
   "cell_type": "markdown",
   "metadata": {},
   "source": [
    "## 2. Set up and Train a STEN Model"
   ]
  },
  {
   "cell_type": "markdown",
   "metadata": {},
   "source": [
    "STEN stands for spatio-temporal encoder network. It is a framework for crowd flow forecasting that involves spatially connected pedestrian activity regions (PARs). In this repo we have provided two STEN models for easy plug in and play. We'll use the best performing mode, Dense-GCN-GRU here. The model can simply be called from our STEN model zoo."
   ]
  },
  {
   "cell_type": "code",
   "execution_count": 6,
   "metadata": {},
   "outputs": [
    {
     "name": "stdout",
     "output_type": "stream",
     "text": [
      "DenseGCNGRU(\n",
      "  (densegcn): DeepGCNLayer(block=dense)\n",
      "  (gru): GRU(130, 64, num_layers=2, batch_first=True)\n",
      "  (fc): Linear(in_features=64, out_features=20, bias=True)\n",
      ")\n"
     ]
    }
   ],
   "source": [
    "from campuscrowd.models import DenseGCNGRU\n",
    "model = DenseGCNGRU(in_channels=2, \n",
    "                    periods=args.forecasting_horizon, \n",
    "                    batch_size=args.batch_size).to(device) \n",
    "print(model)"
   ]
  },
  {
   "cell_type": "markdown",
   "metadata": {},
   "source": [
    "To train the model\n",
    "with the data, we can use the train function from campuscrowd.train_test_utils. This function trains the model and return the model checkpoint. Inside train(), there is a training loop that essentially computes loss and does backprop based on the model-generated prediction vector y_hat. y_hat is computed in the following code snippet: \n",
    "```python\n",
    " for encoder_inputs, labels in train_loader:\n",
    "    y_hat = model(encoder_inputs, static_edge_index)\n",
    "    # torch.tensor storing model predictions. Full training loop omitted for conciseness.\n",
    "``` "
   ]
  },
  {
   "cell_type": "code",
   "execution_count": 9,
   "metadata": {},
   "outputs": [
    {
     "name": "stdout",
     "output_type": "stream",
     "text": [
      "Epoch 0 Step 0 train MSE: 0.8875\n",
      "Epoch 0 Average Training MSE: 0.3191\n",
      "Epoch 1 Step 0 train MSE: 0.0561\n",
      "Epoch 1 Average Training MSE: 0.0458\n",
      "Epoch 2 Step 0 train MSE: 0.0387\n",
      "Epoch 2 Average Training MSE: 0.0413\n",
      "Epoch 3 Step 0 train MSE: 0.0415\n",
      "Epoch 3 Average Training MSE: 0.0404\n",
      "Epoch 4 Step 0 train MSE: 0.0302\n",
      "Epoch 4 Average Training MSE: 0.0395\n",
      "Epoch 5 Step 0 train MSE: 0.0390\n",
      "Epoch 5 Average Training MSE: 0.0393\n",
      "Epoch 6 Step 0 train MSE: 0.0346\n",
      "Epoch 6 Average Training MSE: 0.0382\n",
      "Epoch 7 Step 0 train MSE: 0.0381\n",
      "Epoch 7 Average Training MSE: 0.0380\n",
      "Epoch 8 Step 0 train MSE: 0.0362\n",
      "Epoch 8 Average Training MSE: 0.0380\n",
      "Epoch 9 Step 0 train MSE: 0.0485\n",
      "Epoch 9 Average Training MSE: 0.0374\n",
      "Epoch 10 Step 0 train MSE: 0.0382\n",
      "Epoch 10 Average Training MSE: 0.0370\n",
      "Epoch 11 Step 0 train MSE: 0.0433\n",
      "Epoch 11 Average Training MSE: 0.0369\n",
      "Epoch 12 Step 0 train MSE: 0.0404\n",
      "Epoch 12 Average Training MSE: 0.0370\n",
      "Epoch 13 Step 0 train MSE: 0.0385\n",
      "Epoch 13 Average Training MSE: 0.0365\n",
      "Epoch 14 Step 0 train MSE: 0.0355\n",
      "Epoch 14 Average Training MSE: 0.0366\n",
      "Epoch 15 Step 0 train MSE: 0.0339\n",
      "Epoch 15 Average Training MSE: 0.0364\n",
      "Epoch 16 Step 0 train MSE: 0.0347\n",
      "Epoch 16 Average Training MSE: 0.0362\n",
      "Epoch 17 Step 0 train MSE: 0.0433\n",
      "Epoch 17 Average Training MSE: 0.0364\n",
      "Epoch 18 Step 0 train MSE: 0.0378\n",
      "Epoch 18 Average Training MSE: 0.0364\n",
      "Epoch 19 Step 0 train MSE: 0.0361\n",
      "Epoch 19 Average Training MSE: 0.0360\n",
      "Epoch 20 Step 0 train MSE: 0.0381\n",
      "Epoch 20 Average Training MSE: 0.0356\n",
      "Epoch 21 Step 0 train MSE: 0.0384\n",
      "Epoch 21 Average Training MSE: 0.0355\n",
      "Epoch 22 Step 0 train MSE: 0.0323\n",
      "Epoch 22 Average Training MSE: 0.0355\n",
      "Epoch 23 Step 0 train MSE: 0.0382\n",
      "Epoch 23 Average Training MSE: 0.0354\n",
      "Epoch 24 Step 0 train MSE: 0.0302\n",
      "Epoch 24 Average Training MSE: 0.0350\n",
      "Epoch 25 Step 0 train MSE: 0.0337\n",
      "Epoch 25 Average Training MSE: 0.0349\n",
      "Epoch 26 Step 0 train MSE: 0.0342\n",
      "Epoch 26 Average Training MSE: 0.0351\n",
      "Epoch 27 Step 0 train MSE: 0.0266\n",
      "Epoch 27 Average Training MSE: 0.0348\n",
      "Epoch 28 Step 0 train MSE: 0.0290\n",
      "Epoch 28 Average Training MSE: 0.0350\n",
      "Epoch 29 Step 0 train MSE: 0.0324\n",
      "Epoch 29 Average Training MSE: 0.0346\n",
      "Epoch 30 Step 0 train MSE: 0.0322\n",
      "Epoch 30 Average Training MSE: 0.0342\n",
      "Epoch 31 Step 0 train MSE: 0.0324\n",
      "Epoch 31 Average Training MSE: 0.0344\n",
      "Epoch 32 Step 0 train MSE: 0.0346\n",
      "Epoch 32 Average Training MSE: 0.0339\n",
      "Epoch 33 Step 0 train MSE: 0.0351\n",
      "Epoch 33 Average Training MSE: 0.0340\n",
      "Epoch 34 Step 0 train MSE: 0.0289\n",
      "Epoch 34 Average Training MSE: 0.0342\n",
      "Epoch 35 Step 0 train MSE: 0.0342\n",
      "Epoch 35 Average Training MSE: 0.0337\n",
      "Epoch 36 Step 0 train MSE: 0.0387\n",
      "Epoch 36 Average Training MSE: 0.0334\n",
      "Epoch 37 Step 0 train MSE: 0.0311\n",
      "Epoch 37 Average Training MSE: 0.0336\n",
      "Epoch 38 Step 0 train MSE: 0.0352\n",
      "Epoch 38 Average Training MSE: 0.0331\n",
      "Epoch 39 Step 0 train MSE: 0.0309\n",
      "Epoch 39 Average Training MSE: 0.0327\n"
     ]
    }
   ],
   "source": [
    "from campuscrowd.train_test_utils import train\n",
    "# train model\n",
    "model, checkpoint_dict = train( model, \n",
    "                                train_loader, \n",
    "                                val_loader, \n",
    "                                static_edge_index, \n",
    "                                num_epochs=args.epochs, lr=args.lr\n",
    "                                )\n"
   ]
  },
  {
   "cell_type": "markdown",
   "metadata": {},
   "source": [
    "You can save the model checkpoint if you want"
   ]
  },
  {
   "cell_type": "code",
   "execution_count": 8,
   "metadata": {},
   "outputs": [],
   "source": [
    "from campuscrowd import save_or_update_checkpoint\n",
    " # save model if needed\n",
    "if args.save_model:\n",
    "    filename = model.__class__.__name__+'_'+args.DATASET+'_'+'{}_steps'.format(args.forecasting_horizon)+'.pt'\n",
    "    path = os.path.join(args.save_dir,\n",
    "                        filename)\n",
    "    save_or_update_checkpoint(checkpoint_dict, path)"
   ]
  },
  {
   "cell_type": "markdown",
   "metadata": {},
   "source": [
    "## 3. Evaluate MSE of Prediction"
   ]
  },
  {
   "cell_type": "markdown",
   "metadata": {},
   "source": [
    "Similar to train(), evaluation can be done with the evaluate() function. \n",
    "It computes MSE and update it in checkpoint_dict"
   ]
  },
  {
   "cell_type": "code",
   "execution_count": 11,
   "metadata": {},
   "outputs": [
    {
     "name": "stdout",
     "output_type": "stream",
     "text": [
      "Test MSE: 0.0334\n",
      "Test MAE: 0.1314\n"
     ]
    }
   ],
   "source": [
    "from campuscrowd import evaluate\n",
    "model, checkpoint_dict = evaluate(model, test_loader, static_edge_index, checkpoint_dict=checkpoint_dict)"
   ]
  },
  {
   "cell_type": "markdown",
   "metadata": {},
   "source": []
  }
 ],
 "metadata": {
  "kernelspec": {
   "display_name": "campus-crowd",
   "language": "python",
   "name": "python3"
  },
  "language_info": {
   "codemirror_mode": {
    "name": "ipython",
    "version": 3
   },
   "file_extension": ".py",
   "mimetype": "text/x-python",
   "name": "python",
   "nbconvert_exporter": "python",
   "pygments_lexer": "ipython3",
   "version": "3.10.15"
  }
 },
 "nbformat": 4,
 "nbformat_minor": 2
}
